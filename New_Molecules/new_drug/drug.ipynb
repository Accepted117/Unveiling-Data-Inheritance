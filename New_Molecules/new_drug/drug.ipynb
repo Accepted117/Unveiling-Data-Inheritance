{
 "cells": [
  {
   "cell_type": "code",
   "execution_count": 1,
   "metadata": {},
   "outputs": [],
   "source": [
    "import os\n",
    "import shutil\n",
    "import re\n",
    "\n",
    "import pandas as pd\n",
    "import numpy as np\n",
    "import seaborn as sns\n",
    "import matplotlib.pyplot as plt\n",
    "\n",
    "import reinvent\n",
    "from reinvent.notebooks import load_tb_data, plot_scalars, get_image, create_mol_grid\n",
    "from reinvent.scoring.transforms import ReverseSigmoid\n",
    "from reinvent.scoring.transforms.sigmoids import Parameters as SigmoidParameters\n",
    "\n",
    "import ipywidgets as widgets\n",
    "\n",
    "%load_ext tensorboard"
   ]
  },
  {
   "cell_type": "code",
   "execution_count": 2,
   "metadata": {},
   "outputs": [],
   "source": [
    "# 配置采样模型的运行参数\n",
    "sample_parameters = f\"\"\"\n",
    "run_type = \"sampling\"\n",
    "device = \"cuda:0\"\n",
    "json_out_config = \"_sampling.json\"\n",
    "\n",
    "[parameters]\n",
    "\n",
    "model_file = \"TL_reinvent.model.chkpt\"\n",
    "smiles_file = \"stan_smi_1.smi\"\n",
    "sample_strategy = \"beamsearch\"\n",
    "\n",
    "output_file = 'new_drug.csv'\n",
    "\n",
    "num_smiles = 5\n",
    "unique_molecules = true\n",
    "randomize_smiles = true\n",
    "\"\"\"\n",
    "\n",
    "sampling_filename = \"New_drug.toml\"\n",
    "\n",
    "with open(sampling_filename, \"w\") as tf:\n",
    "    tf.write(sample_parameters)"
   ]
  },
  {
   "cell_type": "code",
   "execution_count": 3,
   "metadata": {},
   "outputs": [
    {
     "name": "stderr",
     "output_type": "stream",
     "text": [
      "Traceback (most recent call last):\n",
      "  File \"C:\\Users\\zi\\.conda\\envs\\reinvent4\\lib\\runpy.py\", line 196, in _run_module_as_main\n",
      "    return _run_code(code, main_globals, None,\n",
      "  File \"C:\\Users\\zi\\.conda\\envs\\reinvent4\\lib\\runpy.py\", line 86, in _run_code\n",
      "    exec(code, run_globals)\n",
      "  File \"C:\\Users\\zi\\.conda\\envs\\reinvent4\\Scripts\\reinvent.exe\\__main__.py\", line 4, in <module>\n",
      "  File \"C:\\Users\\zi\\.conda\\envs\\reinvent4\\lib\\site-packages\\reinvent\\Reinvent.py\", line 27, in <module>\n",
      "    from reinvent import version, runmodes, config_parse, setup_logger\n",
      "  File \"C:\\Users\\zi\\.conda\\envs\\reinvent4\\lib\\site-packages\\reinvent\\runmodes\\__init__.py\", line 7, in <module>\n",
      "    from reinvent.runmodes.TL.run_transfer_learning import run_transfer_learning\n",
      "  File \"C:\\Users\\zi\\.conda\\envs\\reinvent4\\lib\\site-packages\\reinvent\\runmodes\\TL\\__init__.py\", line 6, in <module>\n",
      "    from .mol2mol import *\n",
      "  File \"C:\\Users\\zi\\.conda\\envs\\reinvent4\\lib\\site-packages\\reinvent\\runmodes\\TL\\mol2mol.py\", line 17, in <module>\n",
      "    from ...models.transformer.mol2mol.dataset import get_pair_generator\n",
      "  File \"C:\\Users\\zi\\.conda\\envs\\reinvent4\\lib\\site-packages\\reinvent\\models\\transformer\\mol2mol\\dataset\\__init__.py\", line 1, in <module>\n",
      "    from .get_pair_generator import get_pair_generator\n",
      "  File \"C:\\Users\\zi\\.conda\\envs\\reinvent4\\lib\\site-packages\\reinvent\\models\\transformer\\mol2mol\\dataset\\get_pair_generator.py\", line 2, in <module>\n",
      "    from reinvent.models.transformer.mol2mol.dataset import preprocessing\n",
      "  File \"C:\\Users\\zi\\.conda\\envs\\reinvent4\\lib\\site-packages\\reinvent\\models\\transformer\\mol2mol\\dataset\\preprocessing\\__init__.py\", line 1, in <module>\n",
      "    from .mmp import *\n",
      "  File \"C:\\Users\\zi\\.conda\\envs\\reinvent4\\lib\\site-packages\\reinvent\\models\\transformer\\mol2mol\\dataset\\preprocessing\\mmp.py\", line 7, in <module>\n",
      "    from mmpdblib.do_fragment import fragment_command\n",
      "ModuleNotFoundError: No module named 'mmpdblib'\n"
     ]
    }
   ],
   "source": [
    "# 推理生成分子\n",
    "!reinvent -l sampling.log $sampling_filename"
   ]
  },
  {
   "cell_type": "code",
   "execution_count": 4,
   "metadata": {},
   "outputs": [
    {
     "data": {
      "text/html": [
       "<div>\n",
       "<style scoped>\n",
       "    .dataframe tbody tr th:only-of-type {\n",
       "        vertical-align: middle;\n",
       "    }\n",
       "\n",
       "    .dataframe tbody tr th {\n",
       "        vertical-align: top;\n",
       "    }\n",
       "\n",
       "    .dataframe thead th {\n",
       "        text-align: right;\n",
       "    }\n",
       "</style>\n",
       "<table border=\"1\" class=\"dataframe\">\n",
       "  <thead>\n",
       "    <tr style=\"text-align: right;\">\n",
       "      <th></th>\n",
       "      <th>SMILES</th>\n",
       "      <th>Input_SMILES</th>\n",
       "      <th>Tanimoto</th>\n",
       "      <th>NLL</th>\n",
       "    </tr>\n",
       "  </thead>\n",
       "  <tbody>\n",
       "    <tr>\n",
       "      <th>0</th>\n",
       "      <td>Brc1c(NC2=NCCN2)ccc2nccnc12</td>\n",
       "      <td>Brc1c(NC2=NCCN2)ccc2nccnc12</td>\n",
       "      <td>1.000000</td>\n",
       "      <td>0.32</td>\n",
       "    </tr>\n",
       "    <tr>\n",
       "      <th>1</th>\n",
       "      <td>Clc1c(NC2=NCCN2)ccc2nccnc12</td>\n",
       "      <td>Brc1c(NC2=NCCN2)ccc2nccnc12</td>\n",
       "      <td>0.785714</td>\n",
       "      <td>1.46</td>\n",
       "    </tr>\n",
       "    <tr>\n",
       "      <th>2</th>\n",
       "      <td>Cc1c(NC2=NCCN2)ccc2nccnc12</td>\n",
       "      <td>Brc1c(NC2=NCCN2)ccc2nccnc12</td>\n",
       "      <td>1.000000</td>\n",
       "      <td>5.54</td>\n",
       "    </tr>\n",
       "    <tr>\n",
       "      <th>3</th>\n",
       "      <td>Clc1cnc2ccc(NC3=NCCN3)cc2n1</td>\n",
       "      <td>Brc1c(NC2=NCCN2)ccc2nccnc12</td>\n",
       "      <td>0.785714</td>\n",
       "      <td>5.87</td>\n",
       "    </tr>\n",
       "    <tr>\n",
       "      <th>4</th>\n",
       "      <td>C#CC(O)(/C=C/Cl)CC</td>\n",
       "      <td>C#CC(O)(/C=C/Cl)CC</td>\n",
       "      <td>0.470588</td>\n",
       "      <td>0.00</td>\n",
       "    </tr>\n",
       "  </tbody>\n",
       "</table>\n",
       "</div>"
      ],
      "text/plain": [
       "                        SMILES                 Input_SMILES  Tanimoto   NLL\n",
       "0  Brc1c(NC2=NCCN2)ccc2nccnc12  Brc1c(NC2=NCCN2)ccc2nccnc12  1.000000  0.32\n",
       "1  Clc1c(NC2=NCCN2)ccc2nccnc12  Brc1c(NC2=NCCN2)ccc2nccnc12  0.785714  1.46\n",
       "2   Cc1c(NC2=NCCN2)ccc2nccnc12  Brc1c(NC2=NCCN2)ccc2nccnc12  1.000000  5.54\n",
       "3  Clc1cnc2ccc(NC3=NCCN3)cc2n1  Brc1c(NC2=NCCN2)ccc2nccnc12  0.785714  5.87\n",
       "4           C#CC(O)(/C=C/Cl)CC           C#CC(O)(/C=C/Cl)CC  0.470588  0.00"
      ]
     },
     "execution_count": 4,
     "metadata": {},
     "output_type": "execute_result"
    }
   ],
   "source": [
    "# 处理生成模型结果\n",
    "## 经检查，部分生成分子与输入分子Tanimoto similarity为1的分子并不完全相同，故此处通过比较输入分子与生成分子的字符串是否完全相同来去除重复分子\n",
    "\n",
    "### 读取查看前五个分子\n",
    "df_results = pd.read_csv('new_drug.csv')\n",
    "df_results.head(5)"
   ]
  },
  {
   "cell_type": "code",
   "execution_count": 5,
   "metadata": {},
   "outputs": [],
   "source": [
    "# 去重\n",
    "same_smile = list()\n",
    "save_smiles = list()\n",
    "for n in range(len(df_results)):\n",
    "    if df_results['SMILES'][n] == df_results['Input_SMILES'][n]:\n",
    "        same_smile.append(df_results['SMILES'][n])\n",
    "    else:\n",
    "        save_smiles.append(df_results['SMILES'][n])"
   ]
  },
  {
   "cell_type": "code",
   "execution_count": 6,
   "metadata": {},
   "outputs": [
    {
     "data": {
      "text/plain": [
       "500"
      ]
     },
     "execution_count": 6,
     "metadata": {},
     "output_type": "execute_result"
    }
   ],
   "source": [
    "len(same_smile) # 查看生成分子与输入分子相同的数量"
   ]
  },
  {
   "cell_type": "code",
   "execution_count": 14,
   "metadata": {},
   "outputs": [],
   "source": [
    "# 评估医药分子的类医药性质\n",
    "from rdkit.Chem import QED\n",
    "from rdkit import Chem\n",
    "from rdkit.Contrib.SA_Score import sascorer\n",
    "\n",
    "write_list = list()\n",
    "for smi in save_smiles:\n",
    "    contents = dict()\n",
    "    mol = Chem.MolFromSmiles(smi)\n",
    "    contents['smiles'] = smi\n",
    "    contents['QED_default'] = QED.default(mol)\n",
    "    contents['QED_wights_max'] = QED.weights_max(mol)\n",
    "    contents['QED_wights_mean'] = QED.weights_mean(mol)\n",
    "    contents['QED_wights_none'] = QED.weights_none(mol)\n",
    "    contents['SA_score'] = sascorer.calculateScore(mol)\n",
    "    write_list.append(contents)\n",
    "\n",
    "df = pd.DataFrame(write_list)\n",
    "df.to_csv('results_properties.csv',index=None)\n",
    "\n",
    "## 农药则用内部模型进行预测评估"
   ]
  },
  {
   "cell_type": "code",
   "execution_count": null,
   "metadata": {},
   "outputs": [],
   "source": []
  },
  {
   "cell_type": "code",
   "execution_count": null,
   "metadata": {},
   "outputs": [],
   "source": []
  }
 ],
 "metadata": {
  "kernelspec": {
   "display_name": "reinvent4",
   "language": "python",
   "name": "python3"
  },
  "language_info": {
   "codemirror_mode": {
    "name": "ipython",
    "version": 3
   },
   "file_extension": ".py",
   "mimetype": "text/x-python",
   "name": "python",
   "nbconvert_exporter": "python",
   "pygments_lexer": "ipython3",
   "version": "3.10.14"
  }
 },
 "nbformat": 4,
 "nbformat_minor": 2
}
