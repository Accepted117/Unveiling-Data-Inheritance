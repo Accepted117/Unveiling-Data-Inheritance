{
 "cells": [
  {
   "cell_type": "code",
   "execution_count": 7,
   "metadata": {},
   "outputs": [
    {
     "name": "stdout",
     "output_type": "stream",
     "text": [
      "The tensorboard extension is already loaded. To reload it, use:\n",
      "  %reload_ext tensorboard\n"
     ]
    }
   ],
   "source": [
    "import os\n",
    "import shutil\n",
    "import re\n",
    "\n",
    "import pandas as pd\n",
    "import numpy as np\n",
    "import seaborn as sns\n",
    "import matplotlib.pyplot as plt\n",
    "\n",
    "import reinvent\n",
    "from reinvent.notebooks import load_tb_data, plot_scalars, get_image, create_mol_grid\n",
    "from reinvent.scoring.transforms import ReverseSigmoid\n",
    "from reinvent.scoring.transforms.sigmoids import Parameters as SigmoidParameters\n",
    "\n",
    "import ipywidgets as widgets\n",
    "\n",
    "%load_ext tensorboard"
   ]
  },
  {
   "cell_type": "code",
   "execution_count": 8,
   "metadata": {},
   "outputs": [],
   "source": [
    "# 配置采样模型的运行参数\n",
    "sample_parameters = f\"\"\"\n",
    "run_type = \"sampling\"\n",
    "device = \"cuda:0\"\n",
    "json_out_config = \"_sampling.json\"\n",
    "\n",
    "[parameters]\n",
    "\n",
    "model_file = \"TL_reinvent.model.chkpt\"\n",
    "smiles_file = \"stan_smi_1.smi\"\n",
    "sample_strategy = \"beamsearch\"\n",
    "\n",
    "output_file = 'new_drug.csv'\n",
    "\n",
    "num_smiles = 5\n",
    "unique_molecules = true\n",
    "randomize_smiles = true\n",
    "\"\"\"\n",
    "\n",
    "sampling_filename = \"New_drug.toml\"\n",
    "\n",
    "with open(sampling_filename, \"w\") as tf:\n",
    "    tf.write(sample_parameters)"
   ]
  },
  {
   "cell_type": "code",
   "execution_count": 9,
   "metadata": {},
   "outputs": [],
   "source": [
    "# 推理生成分子\n",
    "!reinvent -l sampling.log $sampling_filename"
   ]
  },
  {
   "cell_type": "code",
   "execution_count": 11,
   "metadata": {},
   "outputs": [
    {
     "data": {
      "text/html": [
       "<div>\n",
       "<style scoped>\n",
       "    .dataframe tbody tr th:only-of-type {\n",
       "        vertical-align: middle;\n",
       "    }\n",
       "\n",
       "    .dataframe tbody tr th {\n",
       "        vertical-align: top;\n",
       "    }\n",
       "\n",
       "    .dataframe thead th {\n",
       "        text-align: right;\n",
       "    }\n",
       "</style>\n",
       "<table border=\"1\" class=\"dataframe\">\n",
       "  <thead>\n",
       "    <tr style=\"text-align: right;\">\n",
       "      <th></th>\n",
       "      <th>SMILES</th>\n",
       "      <th>Input_SMILES</th>\n",
       "      <th>Tanimoto</th>\n",
       "      <th>NLL</th>\n",
       "    </tr>\n",
       "  </thead>\n",
       "  <tbody>\n",
       "    <tr>\n",
       "      <th>0</th>\n",
       "      <td>Brc1c(NC2=NCCN2)ccc2nccnc12</td>\n",
       "      <td>Brc1c(NC2=NCCN2)ccc2nccnc12</td>\n",
       "      <td>1.000000</td>\n",
       "      <td>0.32</td>\n",
       "    </tr>\n",
       "    <tr>\n",
       "      <th>1</th>\n",
       "      <td>Clc1c(NC2=NCCN2)ccc2nccnc12</td>\n",
       "      <td>Brc1c(NC2=NCCN2)ccc2nccnc12</td>\n",
       "      <td>0.785714</td>\n",
       "      <td>1.46</td>\n",
       "    </tr>\n",
       "    <tr>\n",
       "      <th>2</th>\n",
       "      <td>Cc1c(NC2=NCCN2)ccc2nccnc12</td>\n",
       "      <td>Brc1c(NC2=NCCN2)ccc2nccnc12</td>\n",
       "      <td>1.000000</td>\n",
       "      <td>5.54</td>\n",
       "    </tr>\n",
       "    <tr>\n",
       "      <th>3</th>\n",
       "      <td>Clc1cnc2ccc(NC3=NCCN3)cc2n1</td>\n",
       "      <td>Brc1c(NC2=NCCN2)ccc2nccnc12</td>\n",
       "      <td>0.785714</td>\n",
       "      <td>5.87</td>\n",
       "    </tr>\n",
       "    <tr>\n",
       "      <th>4</th>\n",
       "      <td>C#CC(O)(/C=C/Cl)CC</td>\n",
       "      <td>C#CC(O)(/C=C/Cl)CC</td>\n",
       "      <td>0.470588</td>\n",
       "      <td>0.00</td>\n",
       "    </tr>\n",
       "  </tbody>\n",
       "</table>\n",
       "</div>"
      ],
      "text/plain": [
       "                        SMILES                 Input_SMILES  Tanimoto   NLL\n",
       "0  Brc1c(NC2=NCCN2)ccc2nccnc12  Brc1c(NC2=NCCN2)ccc2nccnc12  1.000000  0.32\n",
       "1  Clc1c(NC2=NCCN2)ccc2nccnc12  Brc1c(NC2=NCCN2)ccc2nccnc12  0.785714  1.46\n",
       "2   Cc1c(NC2=NCCN2)ccc2nccnc12  Brc1c(NC2=NCCN2)ccc2nccnc12  1.000000  5.54\n",
       "3  Clc1cnc2ccc(NC3=NCCN3)cc2n1  Brc1c(NC2=NCCN2)ccc2nccnc12  0.785714  5.87\n",
       "4           C#CC(O)(/C=C/Cl)CC           C#CC(O)(/C=C/Cl)CC  0.470588  0.00"
      ]
     },
     "execution_count": 11,
     "metadata": {},
     "output_type": "execute_result"
    }
   ],
   "source": [
    "# 处理生成模型结果\n",
    "## 经检查，部分生成分子与输入分子Tanimoto similarity为1的分子并不完全相同，故此处通过比较输入分子与生成分子的字符串是否完全相同来去除重复分子\n",
    "\n",
    "### 读取查看前五个分子\n",
    "df_results = pd.read_csv('new_drug.csv')\n",
    "df_results.head(5)"
   ]
  },
  {
   "cell_type": "code",
   "execution_count": 12,
   "metadata": {},
   "outputs": [],
   "source": [
    "# 去重\n",
    "same_smile = list()\n",
    "save_smiles = list()\n",
    "for n in range(len(df_results)):\n",
    "    if df_results['SMILES'][n] == df_results['Input_SMILES'][n]:\n",
    "        same_smile.append(df_results['SMILES'][n])\n",
    "    else:\n",
    "        save_smiles.append(df_results['SMILES'][n])"
   ]
  },
  {
   "cell_type": "code",
   "execution_count": 13,
   "metadata": {},
   "outputs": [
    {
     "data": {
      "text/plain": [
       "500"
      ]
     },
     "execution_count": 13,
     "metadata": {},
     "output_type": "execute_result"
    }
   ],
   "source": [
    "len(same_smile) # 查看生成分子与输入分子相同的数量"
   ]
  },
  {
   "cell_type": "code",
   "execution_count": 14,
   "metadata": {},
   "outputs": [],
   "source": [
    "# 评估医药分子的类医药性质\n",
    "from rdkit.Chem import QED\n",
    "from rdkit import Chem\n",
    "from rdkit.Contrib.SA_Score import sascorer\n",
    "\n",
    "write_list = list()\n",
    "for smi in save_smiles:\n",
    "    contents = dict()\n",
    "    mol = Chem.MolFromSmiles(smi)\n",
    "    contents['smiles'] = smi\n",
    "    contents['QED_default'] = QED.default(mol)\n",
    "    contents['QED_wights_max'] = QED.weights_max(mol)\n",
    "    contents['QED_wights_mean'] = QED.weights_mean(mol)\n",
    "    contents['QED_wights_none'] = QED.weights_none(mol)\n",
    "    contents['SA_score'] = sascorer.calculateScore(mol)\n",
    "    write_list.append(contents)\n",
    "\n",
    "df = pd.DataFrame(write_list)\n",
    "df.to_csv('results_properties.csv',index=None)\n",
    "\n",
    "## 农药则用内部模型进行预测评估"
   ]
  },
  {
   "cell_type": "code",
   "execution_count": null,
   "metadata": {},
   "outputs": [],
   "source": []
  },
  {
   "cell_type": "code",
   "execution_count": null,
   "metadata": {},
   "outputs": [],
   "source": []
  }
 ],
 "metadata": {
  "kernelspec": {
   "display_name": "reinvent4",
   "language": "python",
   "name": "python3"
  },
  "language_info": {
   "codemirror_mode": {
    "name": "ipython",
    "version": 3
   },
   "file_extension": ".py",
   "mimetype": "text/x-python",
   "name": "python",
   "nbconvert_exporter": "python",
   "pygments_lexer": "ipython3",
   "version": "3.10.14"
  }
 },
 "nbformat": 4,
 "nbformat_minor": 2
}
